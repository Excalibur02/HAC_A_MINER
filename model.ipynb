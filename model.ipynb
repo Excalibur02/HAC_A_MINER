# data: images
!pip install bing_image_downloader

!mkdir images

from bing_image_downloader import downloader
downloader.download("handwritten notes", limit = 50, output_dir='images')
downloader.download("random images", limit = 50, output_dir='images')

#preprocessing 

import os
import matplotlib.pyplot as plt
import numpy as np
from skimage.io import imread
from skimage.transform import resize

target = []
images = []
flat_data = []

DATADIR = '/content/images'
CATEGORIES = ['handwritten notes','random images']

for category in CATEGORIES:
  class_num = CATEGORIES.index(category)
  path = os.path.join(DATADIR,category)
  for img in os.listdir(path):
    img_array = imread(os.path.join(path,img))
    img_rsize = resize(img_array,(150,150,3))
    flat_data.append(img_rsize.flatten())
    images.append(img_rsize)
    target.append(class_num)

flat_data = np.array(flat_data)
target = np.array(target)
images = np.array(images)


from sklearn.model_selection import train_test_split
x_train, x_test, y_train, y_test = train_test_split(flat_data,target,test_size = 0.3, random_state = 0)
x_test


from sklearn.model_selection import train_test_split
x_train, x_test, y_train, y_test = train_test_split(flat_data,target,test_size = 0.3, random_state = 0)
x_test

from sklearn.model_selection import GridSearchCV
from sklearn import svm

param_grid = [
    {'C':[1,10,100,1000],'kernel':['linear']},
    {'C':[1,10,100,1000],'kernel':['rbf'],'gamma':[0.001,0.0001]},
]

svc = svm.SVC(probability = True)
clf = GridSearchCV(svc,param_grid)
clf.fit(x_train,y_train)

from sklearn.model_selection import GridSearchCV
from sklearn import svm

param_grid = [
    {'C':[1,10,100,1000],'kernel':['linear']},
    {'C':[1,10,100,1000],'kernel':['rbf'],'gamma':[0.001,0.0001]},
]

svc = svm.SVC(probability = True)
clf = GridSearchCV(svc,param_grid)
clf.fit(x_train,y_train)

y_pred = clf.predict(x_test)
y_pred

from sklearn.metrics import accuracy_score,confusion_matrix
accuracy_score(y_pred,y_test)

confusion_matrix(y_pred, y_test)

